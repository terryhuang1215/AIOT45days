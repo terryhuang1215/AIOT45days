{
 "cells": [
  {
   "cell_type": "markdown",
   "metadata": {
    "id": "GoKgXP58AioN"
   },
   "source": [
    "### 作業1 : 請問使用 open 方法後，指定\"rb\"是什麼意思？"
   ]
  },
  {
   "cell_type": "markdown",
   "metadata": {},
   "source": [
    "* Ans: 以二进制格式打开一个文件用于只读。文件指针将会放在文件的开头。"
   ]
  },
  {
   "cell_type": "markdown",
   "metadata": {
    "id": "EwTYifhRAlmP"
   },
   "source": [
    "### 作業2 : 請問 python 的 with 有什麼效果？"
   ]
  },
  {
   "cell_type": "markdown",
   "metadata": {},
   "source": [
    "* 主要處理兩個問題:\n",
    "1)是可能忘記關閉文件句柄\n",
    "2)是文件讀取資料發生異常，沒有進行任何處理\n",
    "\n",
    "\n",
    "* 下面是with版本的程式碼：\n",
    "\n",
    "    with open(\"/tmp/foo.txt\") as file:\n",
    "        data = file.read()\n",
    "\n",
    "* with如何工作?\n",
    "\n",
    "    緊跟with後面的語句被求值後，返回物件的 __enter__() 方法被呼叫，這個方法的返回值將被賦值給as後面的變數。\n",
    "    當with後面的程式碼塊全部被執行完之後，將呼叫前面返回物件的 __exit__()方法。"
   ]
  }
 ],
 "metadata": {
  "colab": {
   "name": "imghdr_practice_作業.ipynb",
   "provenance": []
  },
  "kernelspec": {
   "display_name": "Python 3",
   "language": "python",
   "name": "python3"
  },
  "language_info": {
   "codemirror_mode": {
    "name": "ipython",
    "version": 3
   },
   "file_extension": ".py",
   "mimetype": "text/x-python",
   "name": "python",
   "nbconvert_exporter": "python",
   "pygments_lexer": "ipython3",
   "version": "3.8.5"
  }
 },
 "nbformat": 4,
 "nbformat_minor": 1
}
