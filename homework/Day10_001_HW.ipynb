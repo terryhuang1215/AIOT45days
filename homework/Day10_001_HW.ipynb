{
 "cells": [
  {
   "cell_type": "markdown",
   "metadata": {},
   "source": [
    "# [作業:]\n",
    "\n",
    "請參閱作業範例：\n",
    "\n",
    "作業1 : 觀察 Raspberry PI OS 桌面與純文字版本映像檔案的檔案大小，實際下載之後解壓縮，紀錄實際下載與解壓縮的時間。\n",
    "\n",
    "作業2 : Raspberry PI OS 開機後會自動的將sdcard的硬碟空間擴展成 SDCard 所有的區域，觀察開機的過程，確定可以順利的開機並且使用內定的帳號 pi，密碼 raspberry 登入系統。\n",
    "\n",
    "作業3 : 練習設定 pi 無線網路，確定 pi 的網路可以穩定的連線至無線基地台，順利的取得無線基地台發送的 ip 與網路設定，並且啟動瀏覽器順利上網。"
   ]
  },
  {
   "cell_type": "markdown",
   "metadata": {},
   "source": [
    "![title](img/HW10_ifconfig.png)\n",
    "![title](img/HW10_yahoo.png)"
   ]
  },
  {
   "cell_type": "code",
   "execution_count": null,
   "metadata": {},
   "outputs": [],
   "source": []
  }
 ],
 "metadata": {
  "kernelspec": {
   "display_name": "Python 3",
   "language": "python",
   "name": "python3"
  },
  "language_info": {
   "codemirror_mode": {
    "name": "ipython",
    "version": 3
   },
   "file_extension": ".py",
   "mimetype": "text/x-python",
   "name": "python",
   "nbconvert_exporter": "python",
   "pygments_lexer": "ipython3",
   "version": "3.8.5"
  }
 },
 "nbformat": 4,
 "nbformat_minor": 4
}
