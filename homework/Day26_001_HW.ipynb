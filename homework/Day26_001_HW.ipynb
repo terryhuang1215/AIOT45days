{
 "cells": [
  {
   "cell_type": "markdown",
   "metadata": {
    "id": "YXubSej__exT"
   },
   "source": [
    "# 作業 : imghdr_practice"
   ]
  },
  {
   "cell_type": "markdown",
   "metadata": {
    "id": "5pIkPDAH-n5I"
   },
   "source": [
    "## [作業目標]\n",
    "學習如何使用imghdr函式庫檢查影像的格式\n",
    "\n",
    "## [作業重點]\n",
    "如果想要做一個自動化影像專案，自動檢查輸入的格式是很重要的，練習時對於副檔名需要仔細確認。\n"
   ]
  },
  {
   "cell_type": "markdown",
   "metadata": {
    "id": "GoKgXP58AioN"
   },
   "source": [
    "### 作業1 : 請思考使用原生程序和之前使用os.system指令進行操作，哪一種對你而言更方便?\n",
    "\n"
   ]
  },
  {
   "cell_type": "markdown",
   "metadata": {},
   "source": [
    "* Ans: 使用os.system指令進行比較方便, 因為不會出現darknet.py裡面根本沒有performDetect()或 替換網路上找的 darknet.py 而造成記憶體區段錯誤的問題, 導致程式根本跑不起來..."
   ]
  },
  {
   "cell_type": "markdown",
   "metadata": {
    "id": "EwTYifhRAlmP"
   },
   "source": [
    "### 作業2 : 請使用imghdr函式庫檢查下面連結提供的影像是否為png格式\n",
    "- 連結 https://i.imgur.com/hM6uFKZ.png\n",
    "- 提示: 用下列指令下載作業指定影像到colab上\n",
    "`!wget -O ./test.png https://i.imgur.com/hM6uFKZ.png`\n"
   ]
  },
  {
   "cell_type": "code",
   "execution_count": null,
   "metadata": {},
   "outputs": [],
   "source": [
    "# HW26_04_imghdr_check.py\n",
    "\n",
    "import os\n",
    "import argparse\n",
    "import imghdr\n",
    "\n",
    "parser = argparse.ArgumentParser()\n",
    "parser.add_argument('img_abs_path')\n",
    "args = parser.parse_args()\n",
    "img_path = args.img_abs_path\n",
    "#lis = ['jpeg', 'png', 'bnp']\n",
    "#if imghdr.what(img_path) in lis:\n",
    "if imghdr.what(img_path) == 'png':\n",
    "    print(\"PNG format\")\n",
    "else:\n",
    "    print(\"Not PNG format\")"
   ]
  },
  {
   "cell_type": "markdown",
   "metadata": {},
   "source": [
    "![title](img/HW26_02.png)"
   ]
  }
 ],
 "metadata": {
  "colab": {
   "name": "imghdr_practice_作業.ipynb",
   "provenance": []
  },
  "kernelspec": {
   "display_name": "Python 3",
   "language": "python",
   "name": "python3"
  },
  "language_info": {
   "codemirror_mode": {
    "name": "ipython",
    "version": 3
   },
   "file_extension": ".py",
   "mimetype": "text/x-python",
   "name": "python",
   "nbconvert_exporter": "python",
   "pygments_lexer": "ipython3",
   "version": "3.8.5"
  }
 },
 "nbformat": 4,
 "nbformat_minor": 1
}
