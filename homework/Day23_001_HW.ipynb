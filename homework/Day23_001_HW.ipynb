{
 "cells": [
  {
   "cell_type": "markdown",
   "metadata": {
    "id": "YXubSej__exT"
   },
   "source": [
    "# 作業 : cfg_practice"
   ]
  },
  {
   "cell_type": "markdown",
   "metadata": {
    "id": "5pIkPDAH-n5I"
   },
   "source": [
    "## [作業目標]\n",
    "如何設定tiny-yolo cfg檔參數\n",
    "\n",
    "## [作業重點]\n",
    "classes和filters的數值是有相關的"
   ]
  },
  {
   "cell_type": "markdown",
   "metadata": {
    "id": "GoKgXP58AioN"
   },
   "source": [
    "### 作業1 : 作業1 : 請思考使用YOLO和tinyYOLO進行訓練時，他們之間需要調整的差異在哪裡?\n",
    "\n",
    "\n"
   ]
  },
  {
   "cell_type": "markdown",
   "metadata": {},
   "source": [
    "1) cfg設定檔\n",
    "* 使用yolov3時, 在Darknet的yolov3_training.cfg設定檔要替換成yolov3.cfg => !cp cfg/yolov3.cfg cfg/yolov3_training.cfg\n",
    "\n",
    "* 使用tiny-yolov3時, 在Darknet的yolov3_training.cfg設定檔要替換成yolov3-tiny.cfg => !cp -f cfg/yolov3-tiny.cfg cfg/yolov3_training.cfg\n",
    "\n",
    "2) 下載預訓練的YOLO權重不同\n",
    "* 使用yolov3時 => !wget https://pjreddie.com/media/files/darknet53.conv.74\n",
    "* 使用tiny-yolov3時 => !wget https://pjreddie.com/media/files/yolov3-tiny.weights\n",
    "\n",
    "3) 開始Training時\n",
    "* 使用yolov3時 => !./darknet detector train data/obj.data cfg/yolov3_training.cfg darknet53.conv.74 -dont_show\n",
    "* 使用tiny-yolov3時 => !./darknet detector train data/obj.data cfg/yolov3_training.cfg yolov3-tiny.weights -dont_show"
   ]
  },
  {
   "cell_type": "markdown",
   "metadata": {
    "id": "EwTYifhRAlmP"
   },
   "source": [
    "### 作業2 : 請實作當我們要訓練一個7個class的tiny_yolo時，要如何設定cfg檔?\n"
   ]
  },
  {
   "cell_type": "markdown",
   "metadata": {},
   "source": [
    "訓練前下面的Cell內容要做修改 (cfg設定檔)\n",
    "classes從80改成7(7是範例中的類別數)\n",
    "sed是取代工具，可以將前面的物件取代成後面的\n",
    "ex: classes=80@classes=7@ 會把classes=80取代成classes=7\n",
    "@filters=255@filters=30是把filter的數量改成36。計算公式為 (5 + n)*3\n",
    "其中 n 相當於類別的數量 也就是classes的值"
   ]
  },
  {
   "cell_type": "code",
   "execution_count": null,
   "metadata": {},
   "outputs": [],
   "source": [
    "!cp -f cfg/yolov3-tiny.cfg cfg/yolov3_training.cfg\n",
    "\n",
    "!sed -i 's/batch=1/batch=64/' cfg/yolov3_training.cfg\n",
    "!sed -i 's/subdivisions=1/subdivisions=16/' cfg/yolov3_training.cfg\n",
    "!sed -i 's/max_batches = 500200/max_batches = 4000/' cfg/yolov3_training.cfg\n",
    "!sed -i '135 s@classes=80@classes=7@' cfg/yolov3_training.cfg\n",
    "!sed -i '177 s@classes=80@classes=7@' cfg/yolov3_training.cfg\n",
    "!sed -i '127 s@filters=255@filters=36@' cfg/yolov3_training.cfg\n",
    "!sed -i '171 s@filters=255@filters=36@' cfg/yolov3_training.cfg"
   ]
  },
  {
   "cell_type": "markdown",
   "metadata": {},
   "source": [
    "訓練前下面的Cell內容要做修改\n",
    "obj.names裡面配置的是各個類別的名稱,要改成7種\n",
    "classes從80改成7(範例中的類別數)"
   ]
  },
  {
   "cell_type": "code",
   "execution_count": null,
   "metadata": {},
   "outputs": [],
   "source": [
    "!echo -e \"Tug\\nFerry\\nSailboat\\nCruise\\nXXXXXX\\nYYYYYYY\\nUnknown\" > data/obj.names\n",
    "!echo -e 'classes= 7\\ntrain  = data/train.txt\\nvalid  = data/test.txt\\nnames = data/obj.names\\nbackup = /mydrive/yolov3' > data/obj.data"
   ]
  }
 ],
 "metadata": {
  "colab": {
   "name": "cfg_practice_作業.ipynb",
   "provenance": []
  },
  "kernelspec": {
   "display_name": "Python 3",
   "language": "python",
   "name": "python3"
  },
  "language_info": {
   "codemirror_mode": {
    "name": "ipython",
    "version": 3
   },
   "file_extension": ".py",
   "mimetype": "text/x-python",
   "name": "python",
   "nbconvert_exporter": "python",
   "pygments_lexer": "ipython3",
   "version": "3.8.5"
  }
 },
 "nbformat": 4,
 "nbformat_minor": 1
}
