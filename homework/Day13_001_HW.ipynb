{
 "cells": [
  {
   "cell_type": "markdown",
   "metadata": {},
   "source": [
    "# [作業:]\n",
    "\n",
    "請參閱作業範例：\n",
    "\n",
    "作業1：實際安裝 gpiozero，先安裝 RPi.GPIO，再安裝 pigpio，觀察安裝過程系統顯示的訊息。比較直接啟動 raspi-config 的 interfacing 選項，透過啟動 Remote GPIO，直接安裝GPIOZero。\n",
    "\n",
    "作業2：實際練習 GPIOZero 控制 LED，確定單獨的 GPIO 控制 LED 亮跟暗交替閃爍完成，並且 PWM 控制 LED 明亮的完成後，嘗試依序改變led.value的值，分別設定 0.1, 0.3, 0.5, 0.7 觀察差異。\n",
    "\n",
    "作業3：實際練習 GPIOZero 透過 Button 控制 LED，在按鈕的過程中，觀察實際按下按鈕的次數，LED 點亮的次數，是否一致。練習修改程式，讓按鈕按下是全亮，按鈕放開後是 30% 的亮度。"
   ]
  },
  {
   "cell_type": "markdown",
   "metadata": {},
   "source": [
    "# [HW1]\n",
    "![title](img/HW13_01.png)"
   ]
  },
  {
   "cell_type": "markdown",
   "metadata": {},
   "source": [
    "# [HW2]"
   ]
  },
  {
   "cell_type": "code",
   "execution_count": null,
   "metadata": {},
   "outputs": [],
   "source": [
    "from gpiozero import LED\n",
    "from time import sleep\n",
    "\n",
    "red = LED(17) #use GPIO 17\n",
    "red.blink()\n",
    "sleep(1)\n",
    "\n",
    "while True:\n",
    "    led.value = 0 # LED off\n",
    "    sleep(1)\n",
    "    led.value = 0.1 # LED 0.1 brightness\n",
    "    sleep(1)\n",
    "    led.value = 0.3 # LED 0.3 brightness\n",
    "    sleep(1)\n",
    "    led.value = 0.5 # LED 0.5 brightness\n",
    "    sleep(1)\n",
    "    led.value = 0.7 # LED 0.7 brightness\n",
    "    sleep(1)\n",
    "    led.value = 1 # LED full brightness\n",
    "    sleep(1)"
   ]
  },
  {
   "cell_type": "markdown",
   "metadata": {},
   "source": [
    "# [HW3]"
   ]
  },
  {
   "cell_type": "code",
   "execution_count": null,
   "metadata": {},
   "outputs": [],
   "source": [
    "from gpiozero import Button, LED\n",
    "from signal import pause\n",
    "\n",
    "def led_value_100():\n",
    "    led.value = 1\n",
    "\n",
    "def led_value_30():\n",
    "    led.value = 0.3\n",
    "    \n",
    "led = LED(17) # use GPIO 17\n",
    "button = Button(2) # use GPIO 2\n",
    "\n",
    "led.on()\n",
    "\n",
    "button.when_pressed = led_value_100\n",
    "button.when_released = led_value_30\n",
    "\n",
    "pause()"
   ]
  }
 ],
 "metadata": {
  "kernelspec": {
   "display_name": "Python 3",
   "language": "python",
   "name": "python3"
  },
  "language_info": {
   "codemirror_mode": {
    "name": "ipython",
    "version": 3
   },
   "file_extension": ".py",
   "mimetype": "text/x-python",
   "name": "python",
   "nbconvert_exporter": "python",
   "pygments_lexer": "ipython3",
   "version": "3.8.5"
  }
 },
 "nbformat": 4,
 "nbformat_minor": 4
}
