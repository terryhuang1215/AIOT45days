{
 "cells": [
  {
   "cell_type": "markdown",
   "metadata": {
    "id": "GoKgXP58AioN"
   },
   "source": [
    "### HW28_01_flask_yolo_webcam.py"
   ]
  },
  {
   "cell_type": "markdown",
   "metadata": {},
   "source": [
    "![title](img/HW28_01.png)"
   ]
  },
  {
   "cell_type": "markdown",
   "metadata": {},
   "source": [
    "* 在樹梅派上執行 HW28_01_flask_yolo_webcam.py  (結合 Yolo 和 flask 的程式碼)\n",
    "* 使用 fswebcam 拍照, 存到 /home/pi/Workspace/HW28/flask_webcam/image.jpg\n",
    "* 在樹梅派上進行Yolo推論, 推論結果會紀錄在樹梅派的 darknet/infer.txt 裡\n",
    "* 推論圖片存到 /home/pi/Workspace/HW28/flask_webcam/static/prediction.jpg"
   ]
  },
  {
   "cell_type": "markdown",
   "metadata": {
    "id": "EwTYifhRAlmP"
   },
   "source": [
    "### HW28_02_yolo_pred_flask_mongo.py"
   ]
  },
  {
   "cell_type": "markdown",
   "metadata": {},
   "source": [
    "* 在筆電執行 HW28_02_yolo_pred_flask_mongo.py\n",
    "* 把推論資訊載回來 http://192.168.0.102:8081\n",
    "* 把推論圖片載回來 http://192.168.0.102:8081/index\n",
    "* 把資訊與圖片存到MongoDB裡, 並顯示當筆id紀錄"
   ]
  },
  {
   "cell_type": "markdown",
   "metadata": {},
   "source": [
    "### HW28_03_download_image_from_mongo.py"
   ]
  },
  {
   "cell_type": "markdown",
   "metadata": {},
   "source": [
    "* 輸入要查詢的id, 把圖片從MongoDB裡叫出來並顯示, 也會另存新檔 'mongoDB_image.jpg'"
   ]
  }
 ],
 "metadata": {
  "colab": {
   "name": "imghdr_practice_作業.ipynb",
   "provenance": []
  },
  "kernelspec": {
   "display_name": "Python 3",
   "language": "python",
   "name": "python3"
  },
  "language_info": {
   "codemirror_mode": {
    "name": "ipython",
    "version": 3
   },
   "file_extension": ".py",
   "mimetype": "text/x-python",
   "name": "python",
   "nbconvert_exporter": "python",
   "pygments_lexer": "ipython3",
   "version": "3.8.5"
  }
 },
 "nbformat": 4,
 "nbformat_minor": 1
}
