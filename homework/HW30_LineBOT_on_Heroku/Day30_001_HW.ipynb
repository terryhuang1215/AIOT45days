{
 "cells": [
  {
   "cell_type": "markdown",
   "metadata": {},
   "source": [
    "# Project目標 \n",
    "\n",
    "Line Chat BOT on Heroku"
   ]
  },
  {
   "cell_type": "markdown",
   "metadata": {},
   "source": [
    "# 專案目錄資料\n",
    "![title](HW30_linechatbot.png)"
   ]
  },
  {
   "cell_type": "markdown",
   "metadata": {},
   "source": [
    "# README.txt"
   ]
  },
  {
   "cell_type": "markdown",
   "metadata": {},
   "source": [
    "### Ubuntu上安裝Heroku_CLI\n",
    "sudo snap install heroku --classic\n",
    "\n",
    "### requirements.txt 是要叫Heroku透過pip install 安裝的套件名稱\n",
    "* flask\n",
    "* gunicorn\n",
    "* line-bot-sdk\n",
    "\n",
    "### runtime.txt 是要運行的環境\n",
    "python-3.7.8\n",
    "\n",
    "### Procfile 是告訴 Heroku 我的程式該怎麼跑起來 \n",
    "web: gunicorn linechatbot:app\n",
    "\n",
    "### 登入Heroku\n",
    "heroku login\n",
    "\n",
    "### 在project目錄下執行, 我這邊是以 terry-chatbot 命名, 跟我在Heroku建立的Application是一樣的名字\n",
    "* git init\n",
    "* heroku git:remote -a terry-chatbot\n",
    "* git add -A\n",
    "* git status\n",
    "* git rm --cached .vscode/settings.json\n",
    "* git commit -am \"terry-chatbot v2\"\n",
    "* git push heroku master\n",
    "\n",
    "### 查看目前機器狀況\n",
    "heroku ps\n",
    "\n",
    "### 遠端關機\n",
    "heroku ps:scale web=0\n",
    "\n",
    "### 遠端開機\n",
    "heroku ps:scale web=1\n",
    "\n",
    "### 在Chrome開啟網址連結\n",
    "heroku open\n",
    "\n",
    "### 查看後台即時log\n",
    "heroku logs --tail\n",
    "> Press Control+C to stop streaming the logs."
   ]
  },
  {
   "cell_type": "markdown",
   "metadata": {},
   "source": [
    "# linechatbot.py"
   ]
  },
  {
   "cell_type": "code",
   "execution_count": null,
   "metadata": {},
   "outputs": [],
   "source": [
    "from flask import Flask,request,abort\n",
    "from linebot import LineBotApi,WebhookHandler\n",
    "from linebot.exceptions import InvalidSignatureError\n",
    "from linebot.models import MessageEvent,TextMessage,TextSendMessage\n",
    "\n",
    "import configparser\n",
    "\n",
    "\n",
    "app = Flask(__name__)\n",
    "config = configparser.ConfigParser()\n",
    "config.read('config.ini')\n",
    "#print(\"channel_token:\" + config.get('line-bot', 'channel_token'))\n",
    "#print(\"channel_secret:\" + config.get('line-bot', 'channel_secret'))\n",
    "line_bot_api = LineBotApi(config.get('line-bot', 'channel_token'))\n",
    "handler = WebhookHandler(config.get('line-bot', 'channel_secret'))\n",
    "\n",
    "@app.route(\"/\")\n",
    "def main():\n",
    "    return \"Terry Chat Bot Test!!\"\n",
    "\n",
    "@app.route(\"/callback\", methods=['POST'])\n",
    "def callback():\n",
    "    signature = request.headers['X-Line-Signature']\n",
    "    body = request.get_data(as_text=True)\n",
    "    app.logger.info(\"Request body: \" + body)\n",
    "    try:\n",
    "        handler.handle(body, signature)\n",
    "    except InvalidSignatureError:\n",
    "        print(\"Invalid signature. Please check your channel access token/channel secret.\")\n",
    "        abort(400)\n",
    "    return 'OK'\n",
    "\n",
    "@handler.add(MessageEvent, message=TextMessage)\n",
    "def handle_message(event):\n",
    "    print(\"event message:\" + event.message.text)\n",
    "    line_bot_api.reply_message(\n",
    "        event.reply_token,\n",
    "        TextSendMessage(text=event.message.text))\n",
    "\n",
    "if __name__ == \"__main__\":\n",
    "    app.run(host=\"0.0.0.0\", port=8081, debug=True)\n"
   ]
  }
 ],
 "metadata": {
  "kernelspec": {
   "display_name": "Python 3",
   "language": "python",
   "name": "python3"
  },
  "language_info": {
   "codemirror_mode": {
    "name": "ipython",
    "version": 3
   },
   "file_extension": ".py",
   "mimetype": "text/x-python",
   "name": "python",
   "nbconvert_exporter": "python",
   "pygments_lexer": "ipython3",
   "version": "3.8.5"
  }
 },
 "nbformat": 4,
 "nbformat_minor": 4
}
