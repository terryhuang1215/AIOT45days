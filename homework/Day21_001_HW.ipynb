{
 "cells": [
  {
   "cell_type": "markdown",
   "metadata": {
    "id": "YXubSej__exT"
   },
   "source": [
    "# 作業 : echo_practice"
   ]
  },
  {
   "cell_type": "markdown",
   "metadata": {
    "id": "5pIkPDAH-n5I"
   },
   "source": [
    "## [作業目標]\n",
    "如何使用指令修改yolo的cfg檔\n",
    "## [作業重點]\n",
    "了解echo工具的參數與使用"
   ]
  },
  {
   "cell_type": "markdown",
   "metadata": {
    "id": "GoKgXP58AioN"
   },
   "source": [
    "### 作業1 : 請問YOLO訓練前，分別要對哪幾個檔案做設定?\n",
    "\n"
   ]
  },
  {
   "cell_type": "markdown",
   "metadata": {
    "id": "2NimxVoIAsjk"
   },
   "source": [
    "* 模型cfg, obj.name, obj.data"
   ]
  },
  {
   "cell_type": "markdown",
   "metadata": {
    "id": "EwTYifhRAlmP"
   },
   "source": [
    "### 作業2 : 請問UNIX的文字取代工具sed在使用時，指定參數-i有什麼意義?\n"
   ]
  },
  {
   "cell_type": "markdown",
   "metadata": {
    "id": "U9smRlvxAtBC"
   },
   "source": [
    "* 直接修改讀取的檔案內容，不由螢幕輸出"
   ]
  },
  {
   "cell_type": "markdown",
   "metadata": {
    "id": "ULVVYpgLAnY1"
   },
   "source": [
    "### 作業3 : 請問UNIX的文字編輯工具echo在使用時，指定參數-e有什麼意義?\n"
   ]
  },
  {
   "cell_type": "markdown",
   "metadata": {
    "id": "5QHoi-bTAtXl"
   },
   "source": [
    "* 讓特定字元不作為文字輸出，特別處理。例如\\n、\\r等"
   ]
  },
  {
   "cell_type": "markdown",
   "metadata": {
    "id": "6B4GpYpyApaL"
   },
   "source": [
    "### 作業4: 請在colab的儲存空間新建\"123.sh\"文件，透過echo指令往裡面寫入以下指令\n",
    "```\n",
    "touch bash.sh \n",
    "echo -e \"2021 is coming\" > bash.sh \n",
    "bash bash.sh\n",
    "```"
   ]
  },
  {
   "cell_type": "markdown",
   "metadata": {
    "id": "pHecl9uep6NZ"
   },
   "source": [
    "![title](img/HW21_04.png)"
   ]
  },
  {
   "cell_type": "code",
   "execution_count": null,
   "metadata": {},
   "outputs": [],
   "source": []
  }
 ],
 "metadata": {
  "colab": {
   "name": "解答_echo_practice.ipynb",
   "provenance": []
  },
  "kernelspec": {
   "display_name": "Python 3",
   "language": "python",
   "name": "python3"
  },
  "language_info": {
   "codemirror_mode": {
    "name": "ipython",
    "version": 3
   },
   "file_extension": ".py",
   "mimetype": "text/x-python",
   "name": "python",
   "nbconvert_exporter": "python",
   "pygments_lexer": "ipython3",
   "version": "3.8.5"
  }
 },
 "nbformat": 4,
 "nbformat_minor": 1
}
