{
 "cells": [
  {
   "cell_type": "markdown",
   "metadata": {
    "id": "GoKgXP58AioN"
   },
   "source": [
    "## Mask detection + Yolo + Flask +MongoDB"
   ]
  },
  {
   "cell_type": "markdown",
   "metadata": {},
   "source": [
    "### 在Colab的model training\n",
    "* 使用Colab目錄下的 MaskDetecion_Colab.ipynb"
   ]
  },
  {
   "cell_type": "markdown",
   "metadata": {},
   "source": [
    "### 在樹梅派上\n",
    "* 以root權限將\"RaspberryPi資料夾裡的檔案\"存放到/opt下\n",
    "* 把darknet.tgz與mask_50.tgz解壓縮\n",
    "* 訓練好的cfg, data, weights 都在 mask_50 資料夾下\n",
    "* darknet 資料夾是編譯過的, 有支援 OpenCV 與 libdarknet.so\n",
    "* 記得安裝下方套件\n",
    "> apt install python-opencv 以及 pip3 install opencv-python\n",
    "* Command_darknet_images_py.txt 裡的指令是用來測試在Colab訓練好的mask detection model\n",
    "> python3 darknet_images.py \\--weights /opt/mask_50/tiny_weights/yolov3-tiny_88000.weights \\--config_file /opt/mask_50/cfg/yolov3-tiny.cfg \\--data /opt/mask_50/cfg/obj.data \\--input /opt/mask_50/data/A001.jpg \\--ext_output --dont_show\n",
    "* 開一個terminal, 執行python3 HW29_01_mask_flask.py 或 背景執行加 &\n",
    "> 透過HW29_01_mask_flask.py提供5個Restful API, 上傳在pi上面預測的結果、預測框選物件的座標、以及清除結果的API\n",
    "(code裡面有註解說明)\n",
    "* 再開一個terminal, 執行python3 HW29_02_webcam_mask.py\n",
    "> 載入Yolo訓練模型, 利用OpenCV擷取webcam影像，之後預測影像內有沒有戴口罩的預測結果，框選結果後，儲存推論結果影像至當前目錄下(/opt/webcam_mask_flask)，並且將預測的結果資訊透過POST方式(/postLabel)上傳到 HW29_01_mask_flask.py 的list裡面"
   ]
  },
  {
   "cell_type": "markdown",
   "metadata": {},
   "source": [
    "### 在Ubuntu筆電上\n",
    "* 在專案目錄下手動建立一個 static 資料夾(之後要用來存放從pi下載的mask推論照片)\n",
    "* 執行 python HW29_03_backMongoServer.py\n",
    "> 每隔5秒會自動去抓取前端pi的預測結果, 把圖片存到static資料夾下, 並把推論資訊與圖片存到mongoDB (註：我的樹梅派的ip與flask啟動的port是 http://192.168.0.100:8081)\n",
    "* 執行 mongodb_check_commands.txt 裡面的指令, 查看推論結果與資料是否有寫入mongoDB\n",
    "* 執行 python HW29_04_backMongoServer.py\n",
    "> 給前端用戶查看已寫入mongoDB的推論資訊與圖片"
   ]
  }
 ],
 "metadata": {
  "colab": {
   "name": "imghdr_practice_作業.ipynb",
   "provenance": []
  },
  "kernelspec": {
   "display_name": "Python 3",
   "language": "python",
   "name": "python3"
  },
  "language_info": {
   "codemirror_mode": {
    "name": "ipython",
    "version": 3
   },
   "file_extension": ".py",
   "mimetype": "text/x-python",
   "name": "python",
   "nbconvert_exporter": "python",
   "pygments_lexer": "ipython3",
   "version": "3.8.5"
  }
 },
 "nbformat": 4,
 "nbformat_minor": 1
}
