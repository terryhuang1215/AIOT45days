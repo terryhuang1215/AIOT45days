{
 "cells": [
  {
   "cell_type": "markdown",
   "metadata": {},
   "source": [
    "# 作業： 使用 Python 操作 MongoDB"
   ]
  },
  {
   "cell_type": "markdown",
   "metadata": {},
   "source": [
    "# [作業目標]\n",
    "* 能夠使用 Python 對 MongoDB 的資料進行增刪改查操作。\n",
    "* 使用 Robo 3T 工具查看資料。"
   ]
  },
  {
   "cell_type": "markdown",
   "metadata": {},
   "source": [
    "# [作業重點]\n",
    "* 執行程式前，MongoDB Server 記得要先開啟。\n",
    "* 若 DB、Collection 原本不存在，則直到有第一筆資料 insert 進去，才會真的建立 DB 及 Collection"
   ]
  },
  {
   "cell_type": "markdown",
   "metadata": {},
   "source": [
    "# 作業1\n",
    "* 建立 DB 及 Collection (名稱自訂)，使用 Python 取得連線。"
   ]
  },
  {
   "cell_type": "markdown",
   "metadata": {},
   "source": [
    "# 作業2\n",
    "* 使用 Python 操作 Mongo 中的資料。"
   ]
  },
  {
   "cell_type": "code",
   "execution_count": 2,
   "metadata": {},
   "outputs": [
    {
     "name": "stdout",
     "output_type": "stream",
     "text": [
      "result.inserted_id:  601055f5fe711babba497416\n",
      "result.inserted_ids:  [ObjectId('601055f5fe711babba497417'), ObjectId('601055f5fe711babba497418'), ObjectId('601055f5fe711babba497419')]\n",
      "cnt:  16\n",
      "cnt:  15\n",
      "cnt:  14\n",
      "result.deleted_count:  1\n",
      "collection.find_one()\n",
      "{'_id': ObjectId('6010524d1acd651f996b5fb1'), 'name': 'Peter', 'phone': '0912345678', 'email': 'test@abc.com'}\n",
      "collection.find()\n",
      "{'_id': ObjectId('6010524d1acd651f996b5fb1'), 'name': 'Peter', 'phone': '0912345678', 'email': 'test@abc.com'}\n",
      "{'_id': ObjectId('6010524d1acd651f996b5fb2'), 'name': 'Kevin2', 'phone': '0912345678', 'email': 'test2@abc.com'}\n",
      "{'_id': ObjectId('6010524d1acd651f996b5fb3'), 'name': 'Peter', 'phone': '0912345678', 'email': 'test3@abc.com'}\n",
      "{'_id': ObjectId('6010525ae22dace287f6ef79'), 'name': 'Kevin2', 'phone': '0912345678', 'email': 'test2@abc.com'}\n",
      "{'_id': ObjectId('6010525ae22dace287f6ef7a'), 'name': 'Peter', 'phone': '0912345678', 'email': 'test3@abc.com'}\n",
      "{'_id': ObjectId('60105345fe711babba497412'), 'name': 'Kevin2', 'phone': '0912345678', 'email': 'test2@abc.com'}\n",
      "{'_id': ObjectId('60105345fe711babba497413'), 'name': 'Peter', 'phone': '0912345678', 'email': 'test3@abc.com'}\n",
      "{'_id': ObjectId('601055069e79efa6f207eeb2'), 'name': 'Kevin2', 'phone': '0912345678', 'email': 'test2@abc.com'}\n",
      "{'_id': ObjectId('601055069e79efa6f207eeb3'), 'name': 'Peter', 'phone': '0912345678', 'email': 'test3@abc.com'}\n",
      "{'_id': ObjectId('601055ba01bf95bf3fc3837f'), 'name': 'Kevin2', 'phone': '0912345678', 'email': 'test2@abc.com'}\n",
      "{'_id': ObjectId('601055ba01bf95bf3fc38380'), 'name': 'Kevin3', 'phone': '0912345678', 'email': 'test3@abc.com'}\n",
      "{'_id': ObjectId('601055f5fe711babba497417'), 'name': 'Kevin2', 'phone': '0912345678', 'email': 'test2@abc.com'}\n",
      "{'_id': ObjectId('601055f5fe711babba497418'), 'name': 'Kevin3', 'phone': '0912345678', 'email': 'test3@abc.com'}\n",
      "collection.find().sort()\n",
      "{'_id': ObjectId('6010524d1acd651f996b5fb1'), 'name': 'Peter', 'phone': '0912345678', 'email': 'test@abc.com'}\n",
      "{'_id': ObjectId('6010524d1acd651f996b5fb2'), 'name': 'Kevin2', 'phone': '0912345678', 'email': 'test2@abc.com'}\n",
      "{'_id': ObjectId('6010524d1acd651f996b5fb3'), 'name': 'Peter', 'phone': '0912345678', 'email': 'test3@abc.com'}\n",
      "{'_id': ObjectId('6010525ae22dace287f6ef79'), 'name': 'Kevin2', 'phone': '0912345678', 'email': 'test2@abc.com'}\n",
      "{'_id': ObjectId('6010525ae22dace287f6ef7a'), 'name': 'Peter', 'phone': '0912345678', 'email': 'test3@abc.com'}\n",
      "{'_id': ObjectId('60105345fe711babba497412'), 'name': 'Kevin2', 'phone': '0912345678', 'email': 'test2@abc.com'}\n",
      "{'_id': ObjectId('60105345fe711babba497413'), 'name': 'Peter', 'phone': '0912345678', 'email': 'test3@abc.com'}\n",
      "{'_id': ObjectId('601055069e79efa6f207eeb2'), 'name': 'Kevin2', 'phone': '0912345678', 'email': 'test2@abc.com'}\n",
      "{'_id': ObjectId('601055069e79efa6f207eeb3'), 'name': 'Peter', 'phone': '0912345678', 'email': 'test3@abc.com'}\n",
      "{'_id': ObjectId('601055ba01bf95bf3fc3837f'), 'name': 'Kevin2', 'phone': '0912345678', 'email': 'test2@abc.com'}\n",
      "{'_id': ObjectId('601055ba01bf95bf3fc38380'), 'name': 'Kevin3', 'phone': '0912345678', 'email': 'test3@abc.com'}\n",
      "{'_id': ObjectId('601055f5fe711babba497417'), 'name': 'Kevin2', 'phone': '0912345678', 'email': 'test2@abc.com'}\n",
      "{'_id': ObjectId('601055f5fe711babba497418'), 'name': 'Kevin3', 'phone': '0912345678', 'email': 'test3@abc.com'}\n",
      "collection.find().limit()\n",
      "{'_id': ObjectId('6010524d1acd651f996b5fb1'), 'name': 'Peter', 'phone': '0912345678', 'email': 'test@abc.com'}\n",
      "{'_id': ObjectId('6010524d1acd651f996b5fb2'), 'name': 'Kevin2', 'phone': '0912345678', 'email': 'test2@abc.com'}\n"
     ]
    }
   ],
   "source": [
    "\"\"\"\n",
    "Use Python to access MongoDB\n",
    "\"\"\"\n",
    "from pymongo import MongoClient\n",
    "\n",
    "client = MongoClient(host='localhost', port=27017)\n",
    "db = client['test']\n",
    "collection = db['member']\n",
    "\n",
    "mydata = {\"name\":\"Kevin\", \"phone\":\"0912345678\",\"email\":\"test@abc.com\"}\n",
    "result = collection.insert_one(mydata)\n",
    "print(\"result.inserted_id: \", result.inserted_id)\n",
    "\n",
    "mydata_list = [\n",
    "    {\"name\":\"Kevin2\", \"phone\":\"0912345678\",\"email\":\"test2@abc.com\"},\n",
    "    {\"name\":\"Kevin3\", \"phone\":\"0912345678\",\"email\":\"test3@abc.com\"},\n",
    "    {\"name\":\"Kevin4\", \"phone\":\"0912345678\",\"email\":\"test4@abc.com\"}\n",
    "]\n",
    "result = collection.insert_many(mydata_list)\n",
    "print(\"result.inserted_ids: \", result.inserted_ids)\n",
    "\n",
    "cnt = collection.count_documents({})\n",
    "print(\"cnt: \", cnt)\n",
    "collection.delete_one({})\n",
    "cnt = collection.count_documents({})\n",
    "print(\"cnt: \", cnt)\n",
    "collection.delete_one({\"name\":\"Kevin4\"})\n",
    "cnt = collection.count_documents({})\n",
    "print(\"cnt: \", cnt)\n",
    "\n",
    "result = collection.delete_many({\"name\":\"Kevin\"})\n",
    "print(\"result.deleted_count: \", result.deleted_count)\n",
    "\n",
    "collection.update_one({\"name\":\"Kevin3\"}, {\"$set\": {\"name\":\"Peter\"}})\n",
    "\n",
    "collection.update_many({\"name\":\"Kevin\"}, {\"$set\": {\"name\":\"Peter\"}})\n",
    "\n",
    "print(\"collection.find_one()\")\n",
    "result = collection.find_one()\n",
    "print(result)\n",
    "\n",
    "print(\"collection.find()\")\n",
    "result = collection.find()\n",
    "for x in result:\n",
    "    print(x)\n",
    "\n",
    "print(\"collection.find().sort()\")\n",
    "result = collection.find().sort(\"age\",-1)\n",
    "for x in result:\n",
    "    print(x)\n",
    "\n",
    "print(\"collection.find().limit()\")\n",
    "result = collection.find().limit(2)\n",
    "for x in result:\n",
    "    print(x)\n"
   ]
  },
  {
   "cell_type": "code",
   "execution_count": null,
   "metadata": {},
   "outputs": [],
   "source": []
  }
 ],
 "metadata": {
  "kernelspec": {
   "display_name": "Python 3",
   "language": "python",
   "name": "python3"
  },
  "language_info": {
   "codemirror_mode": {
    "name": "ipython",
    "version": 3
   },
   "file_extension": ".py",
   "mimetype": "text/x-python",
   "name": "python",
   "nbconvert_exporter": "python",
   "pygments_lexer": "ipython3",
   "version": "3.8.5"
  }
 },
 "nbformat": 4,
 "nbformat_minor": 4
}
