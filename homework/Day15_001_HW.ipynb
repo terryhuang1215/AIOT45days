{
 "cells": [
  {
   "cell_type": "markdown",
   "metadata": {
    "id": "p0fSCEWKPVVF"
   },
   "source": [
    "### 作業1\n",
    "\n",
    "---\n",
    "\n"
   ]
  },
  {
   "cell_type": "markdown",
   "metadata": {
    "id": "s6Bh4vFyPUbo"
   },
   "source": [
    "練習將DHT22接於GPIO 27接腳，並且更改軟體的接腳設定值，重新執行範例程式，驗證在不同的接腳上安裝DHT22，程式一樣可以正確地讀出數值。\n"
   ]
  },
  {
   "cell_type": "markdown",
   "metadata": {
    "id": "QanDhMCAWIUH"
   },
   "source": [
    "### **解答1**\n",
    "\n",
    "---\n",
    "\n"
   ]
  },
  {
   "cell_type": "code",
   "execution_count": null,
   "metadata": {
    "id": "XR8o-HYZKa1z"
   },
   "outputs": [],
   "source": [
    "import Adafruit_DHT             # 匯入Adafruit_DHT模組\n",
    "DHT_SENSOR = Adafruit_DHT.DHT22  # 感測器為DHT22\n",
    "DHT_PIN = 27                    # 設定DHT22 Data接線的接腳位置\n",
    "while True:\n",
    "    humidity, temperature = Adafruit_DHT.read_retry(DHT_SENSOR, DHT_PIN)\n",
    "    if humidity is not None and temperature is not None:\n",
    "        print(\"Temp={0:0.1f}*C  Humidity={1:0.1f}%\".format(temperature, humidity))\n",
    "    else:\n",
    "        print(\"Failed to retrieve data from humidity sensor\")\n"
   ]
  },
  {
   "cell_type": "markdown",
   "metadata": {
    "id": "yedmQgyeK8-G"
   },
   "source": [
    "將接腳改成17，記得需要把DHT22的資料線接到GPIO 17\n"
   ]
  },
  {
   "cell_type": "code",
   "execution_count": null,
   "metadata": {
    "id": "TCP91W77KjCg"
   },
   "outputs": [],
   "source": [
    "import Adafruit_DHT             # 匯入Adafruit_DHT模組\n",
    "DHT_SENSOR = Adafruit_DHT.DHT22  # 感測器為DHT22\n",
    "DHT_PIN = 17                    # 設定DHT22 Data接線的接腳位置\n",
    "while True:\n",
    "    humidity, temperature = Adafruit_DHT.read_retry(DHT_SENSOR, DHT_PIN)\n",
    "    if humidity is not None and temperature is not None:\n",
    "        print(\"Temp={0:0.1f}*C  Humidity={1:0.1f}%\".format(temperature, humidity))\n",
    "    else:\n",
    "        print(\"Failed to retrieve data from humidity sensor\")\n"
   ]
  },
  {
   "cell_type": "markdown",
   "metadata": {
    "id": "K-vsXsuOWNie"
   },
   "source": [
    "### 作業2\n",
    "\n",
    "---\n",
    "\n"
   ]
  },
  {
   "cell_type": "markdown",
   "metadata": {
    "id": "IIs1IwgGbS_b"
   },
   "source": [
    "觀察RPi.GPIO的程式碼，與GPIOZero程式碼對於繼電器控制上寫法的不同，如果我們要設定GPIO 26, 19, 13, 6四個接腳控制一個四路繼電器，練習實作一個GPIOZero四路繼電器的控制程式。\n"
   ]
  },
  {
   "cell_type": "markdown",
   "metadata": {
    "id": "_Tf-7TyEbaoM"
   },
   "source": [
    "### **解答2**\n",
    "\n",
    "---\n",
    "\n"
   ]
  },
  {
   "cell_type": "markdown",
   "metadata": {
    "id": "UWcR8J3SLkkj"
   },
   "source": [
    "要注意這段程式碼一定要在PI上面執行，要先安裝RPi.GPIO模組\n"
   ]
  },
  {
   "cell_type": "code",
   "execution_count": null,
   "metadata": {
    "id": "Uw8j3Njycwnt"
   },
   "outputs": [],
   "source": [
    "import RPi.GPIO as GPIO\n",
    "from time import sleep\n",
    "\n",
    "relay_pin = 26\n",
    "\n",
    "GPIO.setmode(GPIO.BCM)\n",
    "GPIO.setup(relay_pin, GPIO.OUT)\n",
    "GPIO.output(relay_pin, 1)\n",
    "try:\n",
    "    while True:\n",
    "        GPIO.output(relay_pin, 0)\n",
    "        sleep(5)\n",
    "        GPIO.output(relay_pin, 1)\n",
    "        sleep(5)\n",
    "except KeyboardInterrupt:\n",
    "\tpass\n",
    "GPIO.cleanup()\n"
   ]
  },
  {
   "cell_type": "markdown",
   "metadata": {
    "id": "oFIEZk-PL2VJ"
   },
   "source": [
    "GPIOZero的對應程式寫法"
   ]
  },
  {
   "cell_type": "code",
   "execution_count": null,
   "metadata": {
    "id": "Ts752K7W65zY"
   },
   "outputs": [],
   "source": [
    "import gpiozero\n",
    "\n",
    "RELAY_PIN = 26\n",
    "relay = gpiozero.OutputDevice(RELAY_PIN, active_high=False, initial_value=True)\n",
    "try:\n",
    "    while True:\n",
    "      relay.off()\n",
    "      sleep(5)\n",
    "      relay.on()\n",
    "      sleep(5)\n",
    "except KeyboardInterrupt:\n",
    "    print(“\\n程式結束執行\\n\")\n",
    "    # 跳出程式，程式執行結束\n",
    "    sys.exit(0)"
   ]
  },
  {
   "cell_type": "markdown",
   "metadata": {
    "id": "nm-gvoOvL8SU"
   },
   "source": [
    "使用GPIO 26,19,13,6連接4個繼電器的程式碼"
   ]
  },
  {
   "cell_type": "code",
   "execution_count": null,
   "metadata": {
    "id": "MTZQHdYvFx6F"
   },
   "outputs": [],
   "source": [
    "import gpiozero\n",
    "\n",
    "RELAY_PIN1 = 26\n",
    "RELAY_PIN2 = 19\n",
    "RELAY_PIN3 = 13\n",
    "RELAY_PIN4 = 6\n",
    "relay1 = gpiozero.OutputDevice(RELAY_PIN1, active_high=False, initial_value=True)\n",
    "relay2 = gpiozero.OutputDevice(RELAY_PIN2, active_high=False, initial_value=True)\n",
    "relay3 = gpiozero.OutputDevice(RELAY_PIN3, active_high=False, initial_value=True)\n",
    "relay4 = gpiozero.OutputDevice(RELAY_PIN4, active_high=False, initial_value=True)\n",
    "try:\n",
    "    while True:\n",
    "      relay1.off()\n",
    "      relay2.off()\n",
    "      relay3.off()\n",
    "      relay4.off()\n",
    "      sleep(5)\n",
    "      relay1.on()\n",
    "      relay2.on()\n",
    "      relay3.on()\n",
    "      relay4.on()\n",
    "      sleep(5)\n",
    "except KeyboardInterrupt:\n",
    "    print(“\\n程式結束執行\\n\")\n",
    "    # 跳出程式，程式執行結束\n",
    "    sys.exit(0)"
   ]
  },
  {
   "cell_type": "markdown",
   "metadata": {
    "id": "WMOX8Aqcd44H"
   },
   "source": [
    "### 作業3\n",
    "\n",
    "---\n",
    "\n"
   ]
  },
  {
   "cell_type": "markdown",
   "metadata": {
    "id": "skKneDN80VH6"
   },
   "source": [
    "將作業1與作業2結合，設定程式在溫度10度以下，打開GPIO26，溫度10度以上到20度之間，控制GPIO19，溫度20度到30度之間，控制GPIO13，溫度在30度以上，控制GPIO6，達成在不同的溫度區間時，控制不同的繼電器的需求。\n"
   ]
  },
  {
   "cell_type": "code",
   "execution_count": null,
   "metadata": {
    "id": "171_37Kzxx-U"
   },
   "outputs": [],
   "source": [
    "import gpiozero\n",
    "import Adafruit_DHT             # 匯入Adafruit_DHT模組\n",
    "RELAY_PIN1 = 26\n",
    "RELAY_PIN2 = 19\n",
    "RELAY_PIN3 = 13\n",
    "RELAY_PIN4 = 6\n",
    "relay1 = gpiozero.OutputDevice(RELAY_PIN1, active_high=True, initial_value=False)\n",
    "relay2 = gpiozero.OutputDevice(RELAY_PIN2, active_high=True, initial_value=False)\n",
    "relay3 = gpiozero.OutputDevice(RELAY_PIN3, active_high=True, initial_value=False)\n",
    "relay4 = gpiozero.OutputDevice(RELAY_PIN4, active_high=True, initial_value=False)\n",
    "\n",
    "DHT_SENSOR = Adafruit_DHT.DHT22 # 感測器為DHT22\n",
    "DHT_PIN = 27          # 設定DHT22 Data接線的接腳位置\n",
    "try:\n",
    "    while True:\n",
    "      humidity, temperature = Adafruit_DHT.read_retry(DHT_SENSOR, DHT_PIN)\n",
    "      if humidity is not None and temperature is not None:\n",
    "          print(\"Temp={0:0.1f}*C  Humidity={1:0.1f}%\".format(temperature, humidity))\n",
    "          if (temperature<=10):\n",
    "            relay1.on()\n",
    "            relay2.off()\n",
    "            relay3.off()\n",
    "            relay4.off()\n",
    "          if (temperature>10 and temperature<=20):\n",
    "            relay1.off()\n",
    "            relay2.on()\n",
    "            relay3.off()\n",
    "            relay4.off()\n",
    "          if (temperature>20 and temperature<=30):\n",
    "            relay1.off()\n",
    "            relay2.off()\n",
    "            relay3.on()\n",
    "            relay4.off()\n",
    "          if (temperature>30):\n",
    "            relay1.off()\n",
    "            relay2.off()\n",
    "            relay3.off()\n",
    "            relay4.on()\n",
    "      else:\n",
    "          print(\"Failed to retrieve data from humidity sensor\")\n",
    "except KeyboardInterrupt:\n",
    "    print(“\\n程式結束執行\\n\")\n",
    "    sys.exit(0)"
   ]
  },
  {
   "cell_type": "markdown",
   "metadata": {
    "id": "D3rSC6vFRhaY"
   },
   "source": [
    "GPIOZero範例程式碼，作為參考用"
   ]
  },
  {
   "cell_type": "code",
   "execution_count": null,
   "metadata": {
    "id": "SyTwmKHYsh3u"
   },
   "outputs": [],
   "source": [
    "import sys\n",
    "import time\n",
    "\n",
    "import gpiozero\n",
    "\n",
    "RELAY_PIN = 26\n",
    "\n",
    "# 開始時設定動作狀態為假(GPIO為0, active_high=False) \n",
    "# 初始狀態值設定為關閉: (initial_value=False)\n",
    "\n",
    "relay = gpiozero.OutputDevice(RELAY_PIN, active_high=False, initial_value=False)\n",
    "\n",
    "def set_relay(status):\n",
    "    if status:\n",
    "        print(“繼電器導通\")\n",
    "        relay.on()\n",
    "    else:\n",
    "        print(“繼電器斷路\")\n",
    "        relay.off()\n",
    "\n",
    "def toggle_relay():\n",
    "    print(“切換繼電器狀態, 開變關, 關變開\")\n",
    "    relay.toggle()\n",
    "\n",
    "def main_loop():\n",
    "    # 程式開始, 設定繼電器狀態為假 (GPIO輸出0)\n",
    "    set_relay(False)\n",
    "    while 1:\n",
    "        # 切換繼電器狀態\n",
    "        toggle_relay()\n",
    "        # 等待一秒鐘時間 \n",
    "        time.sleep(1)\n",
    "\n",
    "if __name__ == \"__main__\":\n",
    "    try:\n",
    "        main_loop()\n",
    "    except KeyboardInterrupt:\n",
    "        # 如果按了鍵盤，執行底下的程式片段\n",
    "        # 繼電器關閉\n",
    "        set_relay(False)\n",
    "        print(“\\n程式結束執行\\n\")\n",
    "        # 跳出程式，程式執行結束\n",
    "        sys.exit(0)\n"
   ]
  }
 ],
 "metadata": {
  "colab": {
   "collapsed_sections": [],
   "name": "AIOT_Day017_DHT22感測器讀取與繼電器控制_範例程式碼.ipynb",
   "provenance": []
  },
  "kernelspec": {
   "display_name": "Python 3",
   "language": "python",
   "name": "python3"
  },
  "language_info": {
   "codemirror_mode": {
    "name": "ipython",
    "version": 3
   },
   "file_extension": ".py",
   "mimetype": "text/x-python",
   "name": "python",
   "nbconvert_exporter": "python",
   "pygments_lexer": "ipython3",
   "version": "3.8.5"
  }
 },
 "nbformat": 4,
 "nbformat_minor": 1
}
