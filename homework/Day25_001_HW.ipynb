{
 "cells": [
  {
   "cell_type": "markdown",
   "metadata": {
    "id": "dX257JRyhewK"
   },
   "source": [
    "# 作業 :"
   ]
  },
  {
   "cell_type": "markdown",
   "metadata": {
    "id": "N1ldaRa0hiIh"
   },
   "source": [
    "* 請參閱「在樹梅派上建立基於 Flask 的 Web API」\n",
    "* 請思考在程序中，@app.route(\"/\")以及下方的def hello()：有什麼樣的關係？"
   ]
  },
  {
   "cell_type": "markdown",
   "metadata": {},
   "source": [
    "Ans: 在網站根目錄(\"/\")下會執行 hello() function"
   ]
  },
  {
   "cell_type": "markdown",
   "metadata": {},
   "source": [
    "* 在Raspberry Pi 4B上 執行 HW25_01_flask.py"
   ]
  },
  {
   "cell_type": "code",
   "execution_count": null,
   "metadata": {},
   "outputs": [],
   "source": [
    "from flask import Flask\n",
    "\n",
    "app = Flask(__name__)\n",
    "\n",
    "@app.route(\"/\")\n",
    "def hello():\n",
    "\treturn \"HELLO!\"\n",
    "\n",
    "if __name__ == \"__main__\":\n",
    "\tapp.run(host=\"0.0.0.0\", port=8081, debug=True, threaded=True)"
   ]
  },
  {
   "cell_type": "markdown",
   "metadata": {},
   "source": [
    "* 在筆電上執行 HW25_02_get_flask.py"
   ]
  },
  {
   "cell_type": "code",
   "execution_count": null,
   "metadata": {},
   "outputs": [],
   "source": [
    "import requests\n",
    "\n",
    "r = requests.get('http://192.168.0.103:8081')\n",
    "if r.status_code == requests.codes.ok:\n",
    "    print(\"OK\")\n",
    "\n",
    "print(r.text)"
   ]
  }
 ],
 "metadata": {
  "accelerator": "GPU",
  "colab": {
   "collapsed_sections": [],
   "name": "orange_of_tinyYOLOV3_training_作業.ipynb",
   "provenance": []
  },
  "kernelspec": {
   "display_name": "Python 3",
   "language": "python",
   "name": "python3"
  },
  "language_info": {
   "codemirror_mode": {
    "name": "ipython",
    "version": 3
   },
   "file_extension": ".py",
   "mimetype": "text/x-python",
   "name": "python",
   "nbconvert_exporter": "python",
   "pygments_lexer": "ipython3",
   "version": "3.8.5"
  }
 },
 "nbformat": 4,
 "nbformat_minor": 1
}
