{
 "cells": [
  {
   "cell_type": "markdown",
   "metadata": {
    "id": "dX257JRyhewK"
   },
   "source": [
    "# 作業 : orange_of_tinyYOLOV3_training"
   ]
  },
  {
   "cell_type": "markdown",
   "metadata": {
    "id": "N1ldaRa0hiIh"
   },
   "source": [
    "## [作業目標]\n",
    "如何從標記開始，訓練自己的yolo模型\n",
    "\n",
    "## [作業重點]\n",
    "- 標記要選對格式\n",
    "- 要調整cfg檔\n",
    "- 推論的時候要傳入正確的參數"
   ]
  },
  {
   "cell_type": "markdown",
   "metadata": {
    "id": "5NzYlHOThyRh"
   },
   "source": [
    "### 作業1 : 請用手邊的水果(e.g. 橘子)做一個物件偵測模型。在課程簡報中有提供測試用的標註檔。"
   ]
  },
  {
   "cell_type": "markdown",
   "metadata": {},
   "source": [
    "* 安裝labelImg\n",
    "![title](img/HW24_install_labelimg.png)\n",
    "\n",
    "* 啟動labelImg, 照著教材步驟在每張圖片上標示orange\n",
    "![title](img/HW24_labelimg.png)\n",
    "\n",
    "* 把orange圖片跟txt包在一起上傳至Google drive/yolov3目錄下\n",
    "* 修改 orange_tiny_YOLOV3_training.ipynb\n",
    "=> yolov3_training.cfg的classes改為1, filters改成(5+1)*3=18"
   ]
  },
  {
   "cell_type": "code",
   "execution_count": null,
   "metadata": {},
   "outputs": [],
   "source": [
    "!cp -f cfg/yolov3-tiny.cfg cfg/yolov3_training.cfg\n",
    "\n",
    "!sed -i 's/batch=1/batch=64/' cfg/yolov3_training.cfg\n",
    "!sed -i 's/subdivisions=1/subdivisions=16/' cfg/yolov3_training.cfg\n",
    "!sed -i 's/max_batches = 500200/max_batches = 4000/' cfg/yolov3_training.cfg\n",
    "!sed -i '135 s@classes=80@classes=1@' cfg/yolov3_training.cfg\n",
    "!sed -i '177 s@classes=80@classes=1@' cfg/yolov3_training.cfg\n",
    "!sed -i '127 s@filters=255@filters=18@' cfg/yolov3_training.cfg\n",
    "!sed -i '171 s@filters=255@filters=18@' cfg/yolov3_training.cfg"
   ]
  },
  {
   "cell_type": "markdown",
   "metadata": {},
   "source": [
    "* 修改 orange_tiny_YOLOV3_training.ipynb => obj.names & obj.data"
   ]
  },
  {
   "cell_type": "code",
   "execution_count": null,
   "metadata": {},
   "outputs": [],
   "source": [
    "!echo -e \"orange\" > data/obj.names\n",
    "!echo -e 'classes= 1\\ntrain  = data/train.txt\\nvalid  = data/test.txt\\nnames = data/obj.names\\nbackup = /mydrive/yolov3' > data/obj.data"
   ]
  },
  {
   "cell_type": "markdown",
   "metadata": {},
   "source": [
    "* 記得執行Training時, 最後參數要加上 \"-clear\" !!"
   ]
  },
  {
   "cell_type": "code",
   "execution_count": null,
   "metadata": {},
   "outputs": [],
   "source": [
    "!./darknet detector train data/obj.data cfg/yolov3_training.cfg yolov3-tiny.weights -dont_show -clear"
   ]
  },
  {
   "cell_type": "markdown",
   "metadata": {},
   "source": [
    "* 完成後會看到orange_inference_config_file_tinyYolo目錄"
   ]
  },
  {
   "cell_type": "markdown",
   "metadata": {},
   "source": [
    "![title](img/HW24_Google_Drive.png)"
   ]
  },
  {
   "cell_type": "markdown",
   "metadata": {},
   "source": [
    "* 把orange_inference_config_file_tinyYolo目錄 從Google Drive/yolov3/下載到Raspberry Pi 4B, 並執行下面指令, 會推論出orange: 73%"
   ]
  },
  {
   "cell_type": "code",
   "execution_count": null,
   "metadata": {},
   "outputs": [],
   "source": [
    "cp -f ~/Downloads/orange_inference_config_file_tinyYolo/obj.names ~/darknet/data/\n",
    "cp -f ~/Downloads/orange_inference_config_file_tinyYolo/obj.data ~/darknet/data/\n",
    "cp -f ~/Downloads/orange_inference_config_file_tinyYolo/yolov3_training_last.weights ~/darknet/cfg/\n",
    "cp -f ~/Downloads/orange_inference_config_file_tinyYolo/yolov3_training.cfg ~/darknet/cfg/\n",
    "\n",
    "cd ~/darknet\n",
    "./darknet detector test ./data/obj.data ./cfg/yolov3_training.cfg ./cfg/yolov3_training_last.weights ~/Downloads/orange_inference_config_file_tinyYolo/orange.jpg"
   ]
  },
  {
   "cell_type": "markdown",
   "metadata": {},
   "source": [
    "![title](img/HW24_orange.png)"
   ]
  },
  {
   "cell_type": "code",
   "execution_count": null,
   "metadata": {},
   "outputs": [],
   "source": []
  }
 ],
 "metadata": {
  "accelerator": "GPU",
  "colab": {
   "collapsed_sections": [],
   "name": "orange_of_tinyYOLOV3_training_作業.ipynb",
   "provenance": []
  },
  "kernelspec": {
   "display_name": "Python 3",
   "language": "python",
   "name": "python3"
  },
  "language_info": {
   "codemirror_mode": {
    "name": "ipython",
    "version": 3
   },
   "file_extension": ".py",
   "mimetype": "text/x-python",
   "name": "python",
   "nbconvert_exporter": "python",
   "pygments_lexer": "ipython3",
   "version": "3.8.5"
  }
 },
 "nbformat": 4,
 "nbformat_minor": 1
}
