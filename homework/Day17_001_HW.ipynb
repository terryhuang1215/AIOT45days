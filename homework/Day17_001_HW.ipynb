{
 "cells": [
  {
   "cell_type": "markdown",
   "metadata": {},
   "source": [
    "# 作業：使用 Flask 撰寫一個 Web Server"
   ]
  },
  {
   "cell_type": "markdown",
   "metadata": {},
   "source": [
    "# [作業目標]\n",
    "* 分別實作接受 Get 和 Post 方法的 api。\n",
    "* 使用 Post 完成檔案上傳功能，並提供簡易的上傳畫面。"
   ]
  },
  {
   "cell_type": "markdown",
   "metadata": {},
   "source": [
    "## [作業重點]\n",
    "\n",
    "* 能充分理解 Get / Post 差異。\n",
    "* 使用 Postman 發送 Request，確定功能是否正確。"
   ]
  },
  {
   "cell_type": "markdown",
   "metadata": {},
   "source": [
    "# 作業1\n",
    "* 實作只接受 Get 發送的 Request，帶入參數 name，將其值回傳。\n",
    "\n",
    "\n",
    "# 作業2\n",
    "* 實作只接受 Post 發送的 Request，帶入參數 name，將其值回傳。\n",
    "\n",
    "\n",
    "# 作業3\n",
    "* 使用 Post 實作檔案上傳功能，並有一個簡單的畫面可以操作檔案上傳的動作。"
   ]
  },
  {
   "cell_type": "markdown",
   "metadata": {},
   "source": [
    "#[HW1]\n",
    "* HW17_02_Get_Request.py"
   ]
  },
  {
   "cell_type": "code",
   "execution_count": null,
   "metadata": {},
   "outputs": [],
   "source": [
    "from flask import Flask, request\n",
    "\n",
    "app = Flask(__name__)\n",
    "\n",
    "# 設定網址路由，及接受的 method(預設是 GET)\n",
    "@app.route('/', methods=['GET'])\n",
    "def index():\n",
    "    name = request.args.get('name') # 取得 name 參數\n",
    "    return \"Hello \" + name\n",
    "    \n",
    "\n",
    "if __name__ == '__main__':\n",
    "    app.run()"
   ]
  },
  {
   "cell_type": "markdown",
   "metadata": {},
   "source": [
    "![title](img/HW17_01.png)"
   ]
  },
  {
   "cell_type": "markdown",
   "metadata": {},
   "source": [
    "#[HW2]\n",
    "* HW17_03_POST.py"
   ]
  },
  {
   "cell_type": "code",
   "execution_count": null,
   "metadata": {},
   "outputs": [],
   "source": [
    "from flask import Flask, request\n",
    "\n",
    "app = Flask(__name__)\n",
    "\n",
    "# 設定網址路由，及接受的 method(預設是 GET)\n",
    "@app.route('/', methods=['POST'])\n",
    "def index():\n",
    "    name = request.form.get('name') # 取得 name 參數\n",
    "    return \"Your name: \" + name\n",
    "    \n",
    "\n",
    "if __name__ == '__main__':\n",
    "    app.run()"
   ]
  },
  {
   "cell_type": "markdown",
   "metadata": {},
   "source": [
    "![title](img/HW17_02.png)"
   ]
  },
  {
   "cell_type": "markdown",
   "metadata": {},
   "source": [
    "#[HW3]\n",
    "* HW17_04_upload_file.py"
   ]
  },
  {
   "cell_type": "code",
   "execution_count": null,
   "metadata": {},
   "outputs": [],
   "source": [
    "from flask import Flask, request\n",
    "\n",
    "app = Flask(__name__)\n",
    "\n",
    "# 設定網址路由，及接受的 method(預設是 GET)\n",
    "@app.route('/', methods=['POST'])\n",
    "def index():\n",
    "    file = request.files['file'] # 取得 request 中的 file(記得發送 postman 中的 檔案參數名稱要和這邊一致)\n",
    "    file.save(file.filename) # 把檔案存起來，並用原來的檔名作為名稱\n",
    "    return file.filename #回傳檔案名稱\n",
    "    \n",
    "\n",
    "if __name__ == '__main__':\n",
    "    app.run()"
   ]
  },
  {
   "cell_type": "markdown",
   "metadata": {},
   "source": [
    "![title](img/HW17_03.png)"
   ]
  }
 ],
 "metadata": {
  "kernelspec": {
   "display_name": "Python 3",
   "language": "python",
   "name": "python3"
  },
  "language_info": {
   "codemirror_mode": {
    "name": "ipython",
    "version": 3
   },
   "file_extension": ".py",
   "mimetype": "text/x-python",
   "name": "python",
   "nbconvert_exporter": "python",
   "pygments_lexer": "ipython3",
   "version": "3.8.5"
  }
 },
 "nbformat": 4,
 "nbformat_minor": 4
}
