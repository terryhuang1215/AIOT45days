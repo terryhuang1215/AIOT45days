{
 "cells": [
  {
   "cell_type": "markdown",
   "metadata": {},
   "source": [
    "# [作業:]\n",
    "\n",
    "請參閱作業範例：\n",
    "\n",
    "作業1：執行 lsusb -v 指令，觀察系統顯示的 usb 裝置，透過 grep “14 Video” 指令篩選顯示的結果，了解 webcam 裝置在系統層次支援的狀態。\n",
    "\n",
    "作業2：安裝 fswebcam，執行 fswebcam 拍一張照片，確定 webcam 動作正常，並且透過更改參數與設定參數檔案的方式，執行 fswebcam，確定可以產生隨時間依序儲存的檔案。\n",
    "\n",
    "作業3：透過 python 呼叫 fswebcam，觀察 python 呼叫 fswebcam 執行外部參數的方式，並且練習更改 fswebcam 的參數檔案，不更動 python 程式碼的方式，儲存各種類型的拍照結果。"
   ]
  },
  {
   "cell_type": "markdown",
   "metadata": {},
   "source": [
    "# [HW1]\n",
    "![title](img/HW14_01_01.png)\n",
    "![title](img/HW14_01_02.png)"
   ]
  },
  {
   "cell_type": "markdown",
   "metadata": {},
   "source": [
    "# [HW2]"
   ]
  },
  {
   "cell_type": "markdown",
   "metadata": {},
   "source": [
    "* HW14_fswebcam_test_02.py"
   ]
  },
  {
   "cell_type": "code",
   "execution_count": null,
   "metadata": {},
   "outputs": [],
   "source": [
    "import time\n",
    "import os\n",
    "\n",
    "while True:\n",
    "    os.system(\"fswebcam -r 1280x720 -S 60 --jpeg 50 --banner-colour '#FF000000' --line-colour '#FF000000' --timestamp '%Y-%m-%d %H:%M:%S' --font 'sans:32'--save `date +%Y%m%d-%H%M%S`.jpg\")\n",
    "    #os.system(\"fswebcam -c HW14_fswebcam.conf\")\n",
    "    time.sleep(5)\n"
   ]
  },
  {
   "cell_type": "markdown",
   "metadata": {},
   "source": [
    "# [HW3]"
   ]
  },
  {
   "cell_type": "markdown",
   "metadata": {},
   "source": [
    "* HW14_fswebcam_test_02.py"
   ]
  },
  {
   "cell_type": "code",
   "execution_count": null,
   "metadata": {},
   "outputs": [],
   "source": [
    "import time\n",
    "import os\n",
    "\n",
    "while True:\n",
    "    #os.system(\"fswebcam -r 1280x720 -S 60 --jpeg 50 --banner-colour '#FF000000' --line-colour '#FF000000' --timestamp '%Y-%m-%d %H:%M:%S' --font 'sans:32'--save `date +%Y%m%d-%H%M%S`.jpg\")\n",
    "    os.system(\"fswebcam -c HW14_fswebcam.conf\")\n",
    "    time.sleep(5)\n"
   ]
  },
  {
   "cell_type": "markdown",
   "metadata": {},
   "source": [
    "* HW14_fswebcam.conf"
   ]
  },
  {
   "cell_type": "code",
   "execution_count": null,
   "metadata": {},
   "outputs": [],
   "source": [
    "# Be very quiet or loud?\n",
    "#quiet\n",
    "#verbose\n",
    "\n",
    "device /dev/video0 # 使用第一個 webcam\n",
    "\n",
    "#loop 15 # 每隔 15 張執行一次擷取\n",
    "\n",
    "skip 60 # 忽略前面 60 張不要使用\n",
    "\n",
    "#Invert # 儲存的影像像素反轉 (變成負片)\n",
    "#background  # 使用背景執行\n",
    "\n",
    "resolution 1280x720  # 擷取的解析度設定為 1280x720 (需要查詢 webcam 可以支援的解析度)\n",
    "\n",
    "#set brightness=50%  # 亮度調整為 50%\n",
    "#set contrast=30% # 對比度 30%\n",
    "\n",
    "no-banner # 將文字標題列放置在頂端 (共有 no-banner, top-banner, bottom-banner 等設定)\n",
    "#banner-colour '#FF000000'\n",
    "#line-colour '#FF000000'\n",
    "#font \"sans:32\" #使用的字型:字型大小 (font:size)\n",
    "#title \"AIOT-Demo\" # 標題內容\n",
    "#timestamp \"%Y-%m-%d %H:%M:%S\"  # 時間格式 %d:日期, %m:月份, %Y:年, %H:小時, %M: 分, %S: 秒, %Z: 時區\n",
    "\n",
    "jpeg 50  # jpeg 壓縮率 (另外有png 可以選擇)\n",
    "\n",
    "#greyscale # 儲存灰階檔案, 將彩色轉換成灰階\n",
    "\n",
    "save %Y%m%d-%H%M%S.jpg  # 儲存的檔案路徑與檔案名稱"
   ]
  }
 ],
 "metadata": {
  "kernelspec": {
   "display_name": "Python 3",
   "language": "python",
   "name": "python3"
  },
  "language_info": {
   "codemirror_mode": {
    "name": "ipython",
    "version": 3
   },
   "file_extension": ".py",
   "mimetype": "text/x-python",
   "name": "python",
   "nbconvert_exporter": "python",
   "pygments_lexer": "ipython3",
   "version": "3.8.5"
  }
 },
 "nbformat": 4,
 "nbformat_minor": 4
}
